{
  "nbformat": 4,
  "nbformat_minor": 0,
  "metadata": {
    "colab": {
      "name": "LearnTensorFlow.ipynb",
      "provenance": [],
      "authorship_tag": "ABX9TyPJS4GWAkECTidoIYIhcbvg",
      "include_colab_link": true
    },
    "kernelspec": {
      "name": "python3",
      "display_name": "Python 3"
    },
    "language_info": {
      "name": "python"
    }
  },
  "cells": [
    {
      "cell_type": "markdown",
      "metadata": {
        "id": "view-in-github",
        "colab_type": "text"
      },
      "source": [
        "<a href=\"https://colab.research.google.com/github/WHK-Scbert/TensorFlow/blob/main/LearnTensorFlow.ipynb\" target=\"_parent\"><img src=\"https://colab.research.google.com/assets/colab-badge.svg\" alt=\"Open In Colab\"/></a>"
      ]
    },
    {
      "cell_type": "code",
      "execution_count": 1,
      "metadata": {
        "id": "KddSbBn77Mt7"
      },
      "outputs": [],
      "source": [
        "import tensorflow as tf"
      ]
    },
    {
      "cell_type": "code",
      "source": [
        "print(tf.__version__)"
      ],
      "metadata": {
        "id": "famUatvb8IlU"
      },
      "execution_count": null,
      "outputs": []
    },
    {
      "cell_type": "markdown",
      "source": [
        "Initializing Tensor"
      ],
      "metadata": {
        "id": "Ov_L4A1h9Vyb"
      }
    },
    {
      "cell_type": "code",
      "source": [
        "x = tf.constant(4.0, shape=(1,1), dtype=tf.float32)\n",
        "x = tf.constant([[1,2,3],[1,2,3]])\n",
        "x = tf.ones((3,3))\n",
        "x = tf.zeros((2,3))\n",
        "x = tf.eye(3) #eye for Indenticle matrix\n",
        "x = tf.random.normal((3,3), mean=0, stddev=1)\n",
        "x = tf.random.uniform((1,3), minval=0, maxval=1)\n",
        "x = tf.range(start=1, limit=10, delta=2)\n",
        "x = tf.cast(x, dtype=tf.float64)\n",
        "print(x)"
      ],
      "metadata": {
        "id": "7JKiMIHI9Xoq"
      },
      "execution_count": null,
      "outputs": []
    },
    {
      "cell_type": "markdown",
      "source": [
        "Mathematical Operation"
      ],
      "metadata": {
        "id": "4XemmN36_Ffi"
      }
    },
    {
      "cell_type": "code",
      "source": [
        "x = tf.constant([1,2,3])\n",
        "y = tf.constant([9,8,7])\n",
        "z = tf.add(x, y)\n",
        "z = x+y\n",
        "print(z)\n",
        "z = x/y\n",
        "print(z)\n",
        "z = tf.tensordot(x,y, axes=1) #Dot product\n",
        "z = tf.reduce_sum(x*y, axis=0) #Dot product\n",
        "print(z)\n",
        "z = x ** 5\n",
        "print(z)\n",
        "\n",
        "#Matrix multiplication\n",
        "x = tf.random.normal((2,3))\n",
        "y = tf.random.normal((3,4))\n",
        "\n",
        "z = tf.matmul(x,y)\n",
        "print(z)\n",
        "z = x @ y\n",
        "print(z)"
      ],
      "metadata": {
        "id": "9XUDQkfQ_KfQ"
      },
      "execution_count": null,
      "outputs": []
    },
    {
      "cell_type": "markdown",
      "source": [
        "Indexing"
      ],
      "metadata": {
        "id": "dgpIGyHGAvmJ"
      }
    },
    {
      "cell_type": "code",
      "source": [
        "x = tf.constant([0,1,2,3,4,5,6])\n",
        "'''\n",
        "print(x[:])\n",
        "print(x[1:])\n",
        "print(x[1:3])\n",
        "print(x[::2])\n",
        "print(x[::-1])\n",
        "'''\n",
        "indices = tf.constant([0,3])\n",
        "x_ind = tf.gather(x,indices)\n",
        "#print(x_ind)\n",
        "x = tf.constant([[1,2,3],\n",
        "                 [3,4,5],\n",
        "                 [5,6,7]])\n",
        "print(x[0,:])\n",
        "print(x[0:2,:])"
      ],
      "metadata": {
        "id": "1cK9Qr5OAwyX"
      },
      "execution_count": null,
      "outputs": []
    },
    {
      "cell_type": "markdown",
      "source": [
        "Reshaping"
      ],
      "metadata": {
        "id": "AuMI_s5zCZZH"
      }
    },
    {
      "cell_type": "code",
      "source": [
        "x = tf.range(9)\n",
        "print(x)\n",
        "\n",
        "x = tf.reshape(x, (3,3))\n",
        "print(x)\n",
        "x = tf.transpose(x, perm=[1,0])\n",
        "print(x)"
      ],
      "metadata": {
        "colab": {
          "base_uri": "https://localhost:8080/"
        },
        "id": "ipvjTCEUCaWv",
        "outputId": "1459efa4-8802-40f3-9152-4c5eb294c3d7"
      },
      "execution_count": 60,
      "outputs": [
        {
          "output_type": "stream",
          "name": "stdout",
          "text": [
            "tf.Tensor([0 1 2 3 4 5 6 7 8], shape=(9,), dtype=int32)\n",
            "tf.Tensor(\n",
            "[[0 1 2]\n",
            " [3 4 5]\n",
            " [6 7 8]], shape=(3, 3), dtype=int32)\n",
            "tf.Tensor(\n",
            "[[0 3 6]\n",
            " [1 4 7]\n",
            " [2 5 8]], shape=(3, 3), dtype=int32)\n"
          ]
        }
      ]
    }
  ]
}